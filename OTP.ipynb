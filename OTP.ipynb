{
  "nbformat": 4,
  "nbformat_minor": 0,
  "metadata": {
    "colab": {
      "provenance": []
    },
    "kernelspec": {
      "name": "python3",
      "display_name": "Python 3"
    },
    "language_info": {
      "name": "python"
    }
  },
  "cells": [
    {
      "cell_type": "code",
      "execution_count": 1,
      "metadata": {
        "colab": {
          "base_uri": "https://localhost:8080/"
        },
        "id": "BnLoJ4VtAlNS",
        "outputId": "20d3d42d-fbcf-404c-82ca-0d59a0df8f67"
      },
      "outputs": [
        {
          "output_type": "stream",
          "name": "stdout",
          "text": [
            "Your OTP is: 493241\n"
          ]
        }
      ],
      "source": [
        "import random\n",
        "\n",
        "otp = random.randint(100000, 999999)\n",
        "print(f\"Your OTP is: {otp}\")"
      ]
    },
    {
      "cell_type": "code",
      "source": [
        "stored_otp = otp"
      ],
      "metadata": {
        "id": "BqXNuMvYA-EL"
      },
      "execution_count": 2,
      "outputs": []
    },
    {
      "cell_type": "code",
      "source": [
        "import smtplib\n",
        "from email.mime.text import MIMEText\n",
        "from email.mime.multipart import MIMEMultipart\n",
        "\n",
        "def send_otp_via_email(user_email, otp):\n",
        "    sender_email = \"youremail@example.com\"\n",
        "    sender_password = \"yourpassword\"\n",
        "\n",
        "    message = MIMEMultipart()\n",
        "    message[\"From\"] = sender_email\n",
        "    message[\"To\"] = user_email\n",
        "    message[\"Subject\"] = \"Your OTP Code\"\n",
        "\n",
        "    body = f\"Your OTP is: {otp}\"\n",
        "    message.attach(MIMEText(body, \"plain\"))\n",
        "\n",
        "    try:\n",
        "        server = smtplib.SMTP(\"smtp.gmail.com\", 587)\n",
        "        server.starttls()\n",
        "        server.login(sender_email, sender_password)\n",
        "        text = message.as_string()\n",
        "        server.sendmail(sender_email, user_email, text)\n",
        "        server.quit()\n",
        "        print(\"Email sent successfully\")\n",
        "    except Exception as e:\n",
        "        print(f\"Error: {e}\")\n",
        "\n",
        "# Example usage\n",
        "user_email = input(\"Enter your email: \")\n",
        "send_otp_via_email(user_email, stored_otp)"
      ],
      "metadata": {
        "colab": {
          "base_uri": "https://localhost:8080/"
        },
        "id": "73VRwFAfA_xt",
        "outputId": "c196b361-173c-44e0-aa6a-f5ed9bd872ea"
      },
      "execution_count": 3,
      "outputs": [
        {
          "output_type": "stream",
          "name": "stdout",
          "text": [
            "Enter your email: viswanathans675@gmail.com\n",
            "Error: (535, b'5.7.8 Username and Password not accepted. For more information, go to\\n5.7.8  https://support.google.com/mail/?p=BadCredentials 8926c6da1cb9f-4c1e1c03897sm830515173.99 - gsmtp')\n"
          ]
        }
      ]
    },
    {
      "cell_type": "code",
      "source": [
        "entered_otp = int(input(\"Enter the OTP you received: \"))\n",
        "\n",
        "if entered_otp == stored_otp:\n",
        "    print(\"OTP verified successfully!\")\n",
        "else:\n",
        "    print(\"Invalid OTP. Please try again.\")"
      ],
      "metadata": {
        "colab": {
          "base_uri": "https://localhost:8080/"
        },
        "id": "_02e_zB5BOyf",
        "outputId": "3f81ff25-d69a-417e-e5e8-d841c7f9ffe8"
      },
      "execution_count": 7,
      "outputs": [
        {
          "output_type": "stream",
          "name": "stdout",
          "text": [
            "Enter the OTP you received: 493241\n",
            "OTP verified successfully!\n"
          ]
        }
      ]
    }
  ]
}